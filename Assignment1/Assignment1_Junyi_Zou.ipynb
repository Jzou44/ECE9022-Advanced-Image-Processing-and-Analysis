{
 "cells": [
  {
   "cell_type": "markdown",
   "metadata": {},
   "source": [
    "Task 1:"
   ]
  },
  {
   "cell_type": "markdown",
   "metadata": {},
   "source": [
    "<h1 align=\"center\">ECE 9022B: Advanced Image Processing and Analysis</h1>\n",
    "<h3 align=\"center\">Assignment #1</h3>\n",
    "<h3 align=\"center\">Junyi Zou, [jzou44@uwo.ca](mailto:jzou44@uwo.ca?subject=Assignment #1)</h3>\n",
    "<h3 align=\"center\">Department of Electronical and Computer Engineering</h3>\n",
    "<h3 align=\"center\">Western University</h3>\n",
    "<h3 align=\"center\">Feburary 09, 2018</h3>\n",
    "<h3 align=\"center\">Submitted to: Elvis C.S. Chen</h3>"
   ]
  },
  {
   "cell_type": "markdown",
   "metadata": {},
   "source": [
    "Task 2:"
   ]
  },
  {
   "cell_type": "code",
   "execution_count": 1,
   "metadata": {},
   "outputs": [
    {
     "name": "stdout",
     "output_type": "stream",
     "text": [
      "SimpleITK Version: 1.0.1 (ITK 4.11)\n",
      "Compiled: Aug  3 2017 00:01:08\n",
      "\n"
     ]
    }
   ],
   "source": [
    "import SimpleITK as sitk #Load (import) SimpleITK module into the Python interpretor, rename it as sitk\n",
    "import matplotlib.pyplot as plt #Load (import) matplotlib.pyplot module and rename it as plt\n",
    "%matplotlib inline\n",
    "print(sitk.Version())"
   ]
  },
  {
   "cell_type": "markdown",
   "metadata": {},
   "source": [
    "Task 3:"
   ]
  },
  {
   "cell_type": "code",
   "execution_count": 28,
   "metadata": {},
   "outputs": [
    {
     "name": "stdout",
     "output_type": "stream",
     "text": [
      "(313, 249, 189)\n",
      "(125.773, 126.053, 24.8635)\n"
     ]
    }
   ],
   "source": [
    "vol = sitk.ReadImage(\"spine.mha\") #Load the CT volumetric file named spine.mha\n",
    "print(vol.GetSize()) #print size (number of voxels) of the volume\n",
    "print(vol.GetOrigin()) #print  physical size of the voxel\n",
    "\n",
    "midZ = vol.GetDepth()//2 #compute the slice number corresponding to the mid-volume in the Depth direction\n",
    "sitk.Show(vol[:,:,midZ]) #display this 2D mid-Depth image using SimpleITK's built-in Show()"
   ]
  },
  {
   "cell_type": "markdown",
   "metadata": {},
   "source": [
    "Task 4:"
   ]
  },
  {
   "cell_type": "code",
   "execution_count": 3,
   "metadata": {},
   "outputs": [
    {
     "data": {
      "image/png": "[encoded data removed]",
      "text/plain": [
       "<matplotlib.figure.Figure at 0x270ff67c898>"
      ]
     },
     "metadata": {},
     "output_type": "display_data"
    }
   ],
   "source": [
    "plt.figure()\n",
    "plt.hist(sitk.GetArrayViewFromImage(vol)[midZ,:,:]) #calculate histogram of the slice\n",
    "plt.title(\"Histogram of this slice corresponding to the mid-volume\") # add title\n",
    "plt.xlabel(\"gray level (D)\") # add label for the x-axis\n",
    "plt.ylabel(\"number of pixels (H(D))\") # add label for the y-axis\n",
    "plt.show() #display the histogram"
   ]
  },
  {
   "cell_type": "markdown",
   "metadata": {
    "collapsed": true
   },
   "source": [
    "Task 5:"
   ]
  },
  {
   "cell_type": "code",
   "execution_count": 30,
   "metadata": {},
   "outputs": [],
   "source": [
    "thresholdFilter = sitk.BinaryThresholdImageFilter()\n",
    "#help(thresholdFilter.Execute)\n",
    "segmentedVolume = thresholdFilter.Execute(vol,0,2200,255,0) #[lower, upper] = [0, 2200]\n",
    "sitk.Show(segmentedVolume[:,:,midZ])"
   ]
  },
  {
   "cell_type": "markdown",
   "metadata": {},
   "source": [
    "Task 6:"
   ]
  },
  {
   "cell_type": "code",
   "execution_count": 42,
   "metadata": {},
   "outputs": [],
   "source": [
    "#Save the segmentation result\n",
    "sitk.WriteImage(sitk.Cast( segmentedVolume, vol.GetPixelID() ), 'segmented_spine.mha')"
   ]
  },
  {
   "cell_type": "markdown",
   "metadata": {},
   "source": [
    "Task 7"
   ]
  },
  {
   "cell_type": "code",
   "execution_count": null,
   "metadata": {},
   "outputs": [],
   "source": []
  }
 ],
 "metadata": {
  "kernelspec": {
   "display_name": "Python 3",
   "language": "python",
   "name": "python3"
  },
  "language_info": {
   "codemirror_mode": {
    "name": "ipython",
    "version": 3
   },
   "file_extension": ".py",
   "mimetype": "text/x-python",
   "name": "python",
   "nbconvert_exporter": "python",
   "pygments_lexer": "ipython3",
   "version": "3.6.4"
  }
 },
 "nbformat": 4,
 "nbformat_minor": 2
}
